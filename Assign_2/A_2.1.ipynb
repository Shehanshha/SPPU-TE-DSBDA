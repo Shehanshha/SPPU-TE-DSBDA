{
 "cells": [
  {
   "cell_type": "code",
   "execution_count": 1,
   "id": "557813a3-2bec-4c92-a966-46754c141c47",
   "metadata": {},
   "outputs": [],
   "source": [
    "import pandas as pd\n",
    "import numpy as np"
   ]
  },
  {
   "cell_type": "code",
   "execution_count": 3,
   "id": "93c6792b-a9e4-4fe3-b5da-a491c7567171",
   "metadata": {},
   "outputs": [],
   "source": [
    "dict1 = {\"Roll_no\":[2,84,14,65,75,57,12],\"Name\":[\"Sanyam\",\"Rohit\",\"Rane\",\"Vishal\",\"Swaraj\",\"Tejas\",\"Ashish\"],\"Maths_marks\":[95,70,80,90,35,34,np.nan],\"English_marks\":[70,80,90,'?',74,np.nan,60],\"Science_marks\":[51,np.nan,94,56,17,54,76],\"History_marks\":[96,56,67,85,np.nan,74,88]}"
   ]
  },
  {
   "cell_type": "code",
   "execution_count": 4,
   "id": "f3feaeb4-1f97-4f37-ba05-284fd553d6ee",
   "metadata": {},
   "outputs": [
    {
     "data": {
      "text/plain": [
       "{'Roll_no': [2, 84, 14, 65, 75, 57, 12],\n",
       " 'Name': ['Sanyam', 'Rohit', 'Rane', 'Vishal', 'Swaraj', 'Tejas', 'Ashish'],\n",
       " 'Maths_marks': [95, 70, 80, 90, 35, 34, nan],\n",
       " 'English_marks': [70, 80, 90, '?', 74, nan, 60],\n",
       " 'Science_marks': [51, nan, 94, 56, 17, 54, 76],\n",
       " 'History_marks': [96, 56, 67, 85, nan, 74, 88]}"
      ]
     },
     "execution_count": 4,
     "metadata": {},
     "output_type": "execute_result"
    }
   ],
   "source": [
    "dict1\n"
   ]
  },
  {
   "cell_type": "code",
   "execution_count": 5,
   "id": "3aea7a90-930b-4ea4-8fc6-f10a9b409c4b",
   "metadata": {},
   "outputs": [
    {
     "data": {
      "text/html": [
       "<div>\n",
       "<style scoped>\n",
       "    .dataframe tbody tr th:only-of-type {\n",
       "        vertical-align: middle;\n",
       "    }\n",
       "\n",
       "    .dataframe tbody tr th {\n",
       "        vertical-align: top;\n",
       "    }\n",
       "\n",
       "    .dataframe thead th {\n",
       "        text-align: right;\n",
       "    }\n",
       "</style>\n",
       "<table border=\"1\" class=\"dataframe\">\n",
       "  <thead>\n",
       "    <tr style=\"text-align: right;\">\n",
       "      <th></th>\n",
       "      <th>Roll_no</th>\n",
       "      <th>Name</th>\n",
       "      <th>Maths_marks</th>\n",
       "      <th>English_marks</th>\n",
       "      <th>Science_marks</th>\n",
       "      <th>History_marks</th>\n",
       "    </tr>\n",
       "  </thead>\n",
       "  <tbody>\n",
       "    <tr>\n",
       "      <th>0</th>\n",
       "      <td>2</td>\n",
       "      <td>Sanyam</td>\n",
       "      <td>95.0</td>\n",
       "      <td>70</td>\n",
       "      <td>51.0</td>\n",
       "      <td>96.0</td>\n",
       "    </tr>\n",
       "    <tr>\n",
       "      <th>1</th>\n",
       "      <td>84</td>\n",
       "      <td>Rohit</td>\n",
       "      <td>70.0</td>\n",
       "      <td>80</td>\n",
       "      <td>NaN</td>\n",
       "      <td>56.0</td>\n",
       "    </tr>\n",
       "    <tr>\n",
       "      <th>2</th>\n",
       "      <td>14</td>\n",
       "      <td>Rane</td>\n",
       "      <td>80.0</td>\n",
       "      <td>90</td>\n",
       "      <td>94.0</td>\n",
       "      <td>67.0</td>\n",
       "    </tr>\n",
       "    <tr>\n",
       "      <th>3</th>\n",
       "      <td>65</td>\n",
       "      <td>Vishal</td>\n",
       "      <td>90.0</td>\n",
       "      <td>?</td>\n",
       "      <td>56.0</td>\n",
       "      <td>85.0</td>\n",
       "    </tr>\n",
       "    <tr>\n",
       "      <th>4</th>\n",
       "      <td>75</td>\n",
       "      <td>Swaraj</td>\n",
       "      <td>35.0</td>\n",
       "      <td>74</td>\n",
       "      <td>17.0</td>\n",
       "      <td>NaN</td>\n",
       "    </tr>\n",
       "    <tr>\n",
       "      <th>5</th>\n",
       "      <td>57</td>\n",
       "      <td>Tejas</td>\n",
       "      <td>34.0</td>\n",
       "      <td>NaN</td>\n",
       "      <td>54.0</td>\n",
       "      <td>74.0</td>\n",
       "    </tr>\n",
       "    <tr>\n",
       "      <th>6</th>\n",
       "      <td>12</td>\n",
       "      <td>Ashish</td>\n",
       "      <td>NaN</td>\n",
       "      <td>60</td>\n",
       "      <td>76.0</td>\n",
       "      <td>88.0</td>\n",
       "    </tr>\n",
       "  </tbody>\n",
       "</table>\n",
       "</div>"
      ],
      "text/plain": [
       "   Roll_no    Name  Maths_marks English_marks  Science_marks  History_marks\n",
       "0        2  Sanyam         95.0            70           51.0           96.0\n",
       "1       84   Rohit         70.0            80            NaN           56.0\n",
       "2       14    Rane         80.0            90           94.0           67.0\n",
       "3       65  Vishal         90.0             ?           56.0           85.0\n",
       "4       75  Swaraj         35.0            74           17.0            NaN\n",
       "5       57   Tejas         34.0           NaN           54.0           74.0\n",
       "6       12  Ashish          NaN            60           76.0           88.0"
      ]
     },
     "execution_count": 5,
     "metadata": {},
     "output_type": "execute_result"
    }
   ],
   "source": [
    "df = pd.DataFrame(dict1)\n",
    "df"
   ]
  },
  {
   "cell_type": "code",
   "execution_count": null,
   "id": "4402971e-f0fd-454c-b191-aac50d556d7f",
   "metadata": {},
   "outputs": [],
   "source": [
    "df.sort_values(by = 'Roll_no',ascending=True,inplace = True)   #inplace is for update the original dataframe data \n",
    "df                                                              "
   ]
  },
  {
   "cell_type": "code",
   "execution_count": 6,
   "id": "b8fb37ae-c6e2-47e1-a836-c479bdedb5fe",
   "metadata": {},
   "outputs": [
    {
     "data": {
      "text/plain": [
       "Roll_no          0\n",
       "Name             0\n",
       "Maths_marks      1\n",
       "English_marks    1\n",
       "Science_marks    1\n",
       "History_marks    1\n",
       "dtype: int64"
      ]
     },
     "execution_count": 6,
     "metadata": {},
     "output_type": "execute_result"
    }
   ],
   "source": [
    "#Scan missing values\n",
    "df.isnull().sum()"
   ]
  },
  {
   "cell_type": "code",
   "execution_count": null,
   "id": "f7a77537-94dc-432b-9bbf-a361645e81e9",
   "metadata": {},
   "outputs": [],
   "source": [
    "df.dropna() # this is for removing the rows that contains the missing values"
   ]
  },
  {
   "cell_type": "code",
   "execution_count": 8,
   "id": "49c9a0ed-9291-403d-8492-748c000e571d",
   "metadata": {},
   "outputs": [],
   "source": [
    "df.drop(df.index[df['English_marks'] == '?'],inplace = True)"
   ]
  },
  {
   "cell_type": "code",
   "execution_count": 9,
   "id": "48fb5e58-4bfa-49d4-8bb0-f2a3d4f0f6ec",
   "metadata": {},
   "outputs": [
    {
     "name": "stderr",
     "output_type": "stream",
     "text": [
      "C:\\Users\\sanya\\AppData\\Local\\Temp\\ipykernel_10032\\3618400827.py:6: FutureWarning: A value is trying to be set on a copy of a DataFrame or Series through chained assignment using an inplace method.\n",
      "The behavior will change in pandas 3.0. This inplace method will never work because the intermediate object on which we are setting values always behaves as a copy.\n",
      "\n",
      "For example, when doing 'df[col].method(value, inplace=True)', try using 'df.method({col: value}, inplace=True)' or df[col] = df[col].method(value) instead, to perform the operation inplace on the original object.\n",
      "\n",
      "\n",
      "  df[\"Maths_marks\"].replace(np.nan,df1,inplace= True)\n",
      "C:\\Users\\sanya\\AppData\\Local\\Temp\\ipykernel_10032\\3618400827.py:7: FutureWarning: A value is trying to be set on a copy of a DataFrame or Series through chained assignment using an inplace method.\n",
      "The behavior will change in pandas 3.0. This inplace method will never work because the intermediate object on which we are setting values always behaves as a copy.\n",
      "\n",
      "For example, when doing 'df[col].method(value, inplace=True)', try using 'df.method({col: value}, inplace=True)' or df[col] = df[col].method(value) instead, to perform the operation inplace on the original object.\n",
      "\n",
      "\n",
      "  df[\"English_marks\"].replace(np.nan,df1,inplace= True)\n",
      "C:\\Users\\sanya\\AppData\\Local\\Temp\\ipykernel_10032\\3618400827.py:7: FutureWarning: Downcasting behavior in `replace` is deprecated and will be removed in a future version. To retain the old behavior, explicitly call `result.infer_objects(copy=False)`. To opt-in to the future behavior, set `pd.set_option('future.no_silent_downcasting', True)`\n",
      "  df[\"English_marks\"].replace(np.nan,df1,inplace= True)\n",
      "C:\\Users\\sanya\\AppData\\Local\\Temp\\ipykernel_10032\\3618400827.py:8: FutureWarning: A value is trying to be set on a copy of a DataFrame or Series through chained assignment using an inplace method.\n",
      "The behavior will change in pandas 3.0. This inplace method will never work because the intermediate object on which we are setting values always behaves as a copy.\n",
      "\n",
      "For example, when doing 'df[col].method(value, inplace=True)', try using 'df.method({col: value}, inplace=True)' or df[col] = df[col].method(value) instead, to perform the operation inplace on the original object.\n",
      "\n",
      "\n",
      "  df[\"Science_marks\"].replace(np.nan,df1,inplace= True)\n",
      "C:\\Users\\sanya\\AppData\\Local\\Temp\\ipykernel_10032\\3618400827.py:9: FutureWarning: A value is trying to be set on a copy of a DataFrame or Series through chained assignment using an inplace method.\n",
      "The behavior will change in pandas 3.0. This inplace method will never work because the intermediate object on which we are setting values always behaves as a copy.\n",
      "\n",
      "For example, when doing 'df[col].method(value, inplace=True)', try using 'df.method({col: value}, inplace=True)' or df[col] = df[col].method(value) instead, to perform the operation inplace on the original object.\n",
      "\n",
      "\n",
      "  df[\"History_marks\"].replace(np.nan,df1,inplace= True)\n"
     ]
    }
   ],
   "source": [
    "df1 = df['Maths_marks'].mean()\n",
    "df1 = df['English_marks'].mean()\n",
    "df1 = df['Science_marks'].mean()\n",
    "df1 = df[\"History_marks\"].mean()\n",
    "\n",
    "df[\"Maths_marks\"].replace(np.nan,df1,inplace= True)\n",
    "df[\"English_marks\"].replace(np.nan,df1,inplace= True)\n",
    "df[\"Science_marks\"].replace(np.nan,df1,inplace= True)\n",
    "df[\"History_marks\"].replace(np.nan,df1,inplace= True)"
   ]
  },
  {
   "cell_type": "code",
   "execution_count": 10,
   "id": "28c0cf6c-d2cb-48e5-81e8-246aac0e6af2",
   "metadata": {},
   "outputs": [
    {
     "data": {
      "text/html": [
       "<div>\n",
       "<style scoped>\n",
       "    .dataframe tbody tr th:only-of-type {\n",
       "        vertical-align: middle;\n",
       "    }\n",
       "\n",
       "    .dataframe tbody tr th {\n",
       "        vertical-align: top;\n",
       "    }\n",
       "\n",
       "    .dataframe thead th {\n",
       "        text-align: right;\n",
       "    }\n",
       "</style>\n",
       "<table border=\"1\" class=\"dataframe\">\n",
       "  <thead>\n",
       "    <tr style=\"text-align: right;\">\n",
       "      <th></th>\n",
       "      <th>Roll_no</th>\n",
       "      <th>Name</th>\n",
       "      <th>Maths_marks</th>\n",
       "      <th>English_marks</th>\n",
       "      <th>Science_marks</th>\n",
       "      <th>History_marks</th>\n",
       "    </tr>\n",
       "  </thead>\n",
       "  <tbody>\n",
       "    <tr>\n",
       "      <th>0</th>\n",
       "      <td>2</td>\n",
       "      <td>Sanyam</td>\n",
       "      <td>95.0</td>\n",
       "      <td>70.0</td>\n",
       "      <td>51.0</td>\n",
       "      <td>96.0</td>\n",
       "    </tr>\n",
       "    <tr>\n",
       "      <th>1</th>\n",
       "      <td>84</td>\n",
       "      <td>Rohit</td>\n",
       "      <td>70.0</td>\n",
       "      <td>80.0</td>\n",
       "      <td>76.2</td>\n",
       "      <td>56.0</td>\n",
       "    </tr>\n",
       "    <tr>\n",
       "      <th>2</th>\n",
       "      <td>14</td>\n",
       "      <td>Rane</td>\n",
       "      <td>80.0</td>\n",
       "      <td>90.0</td>\n",
       "      <td>94.0</td>\n",
       "      <td>67.0</td>\n",
       "    </tr>\n",
       "    <tr>\n",
       "      <th>4</th>\n",
       "      <td>75</td>\n",
       "      <td>Swaraj</td>\n",
       "      <td>35.0</td>\n",
       "      <td>74.0</td>\n",
       "      <td>17.0</td>\n",
       "      <td>76.2</td>\n",
       "    </tr>\n",
       "    <tr>\n",
       "      <th>5</th>\n",
       "      <td>57</td>\n",
       "      <td>Tejas</td>\n",
       "      <td>34.0</td>\n",
       "      <td>76.2</td>\n",
       "      <td>54.0</td>\n",
       "      <td>74.0</td>\n",
       "    </tr>\n",
       "    <tr>\n",
       "      <th>6</th>\n",
       "      <td>12</td>\n",
       "      <td>Ashish</td>\n",
       "      <td>76.2</td>\n",
       "      <td>60.0</td>\n",
       "      <td>76.0</td>\n",
       "      <td>88.0</td>\n",
       "    </tr>\n",
       "  </tbody>\n",
       "</table>\n",
       "</div>"
      ],
      "text/plain": [
       "   Roll_no    Name  Maths_marks  English_marks  Science_marks  History_marks\n",
       "0        2  Sanyam         95.0           70.0           51.0           96.0\n",
       "1       84   Rohit         70.0           80.0           76.2           56.0\n",
       "2       14    Rane         80.0           90.0           94.0           67.0\n",
       "4       75  Swaraj         35.0           74.0           17.0           76.2\n",
       "5       57   Tejas         34.0           76.2           54.0           74.0\n",
       "6       12  Ashish         76.2           60.0           76.0           88.0"
      ]
     },
     "execution_count": 10,
     "metadata": {},
     "output_type": "execute_result"
    }
   ],
   "source": [
    "df.isnull().sum()\n",
    "df"
   ]
  },
  {
   "cell_type": "code",
   "execution_count": 11,
   "id": "8577fbe1-9ee5-43a0-812b-c5dd8ee6a0f1",
   "metadata": {},
   "outputs": [
    {
     "data": {
      "text/plain": [
       "<Axes: >"
      ]
     },
     "execution_count": 11,
     "metadata": {},
     "output_type": "execute_result"
    },
    {
     "data": {
      "image/png": "[encoded data removed]",
      "text/plain": [
       "<Figure size 640x480 with 1 Axes>"
      ]
     },
     "metadata": {},
     "output_type": "display_data"
    }
   ],
   "source": [
    "df.boxplot()"
   ]
  }
 ],
 "metadata": {
  "kernelspec": {
   "display_name": "Python 3 (ipykernel)",
   "language": "python",
   "name": "python3"
  },
  "language_info": {
   "codemirror_mode": {
    "name": "ipython",
    "version": 3
   },
   "file_extension": ".py",
   "mimetype": "text/x-python",
   "name": "python",
   "nbconvert_exporter": "python",
   "pygments_lexer": "ipython3",
   "version": "3.11.5"
  }
 },
 "nbformat": 4,
 "nbformat_minor": 5
}
